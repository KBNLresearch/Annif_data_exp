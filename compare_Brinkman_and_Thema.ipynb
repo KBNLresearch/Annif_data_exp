{
 "cells": [
  {
   "cell_type": "markdown",
   "metadata": {},
   "source": [
    "# Compare Brinkman and Thema thesaurus\n",
    "In this document we try to find the amount of overlap between two thesauri: The Brinkman Catalog (used by the KB) and Thema (created by Centraal Bookhuis (CB)). This list will be used to choose our dataset for Annif."
   ]
  },
  {
   "cell_type": "code",
   "execution_count": 1,
   "metadata": {},
   "outputs": [],
   "source": [
    "# !pip3 install numpy\n",
    "# !pip3 install pandas\n",
    "\n",
    "import pandas as pd\n",
    "import numpy as np"
   ]
  },
  {
   "cell_type": "code",
   "execution_count": 2,
   "metadata": {},
   "outputs": [],
   "source": [
    "# Import TSV file for Thema and Brinkman as Series.\n",
    "brinkman_data = pd.read_csv('data/brinkmanthesaurus_vocab.tsv', sep='\\t', usecols=[1], header=None, squeeze=True)\n",
    "thema_data = pd.read_csv('data/Thema_v1.3.2_nl.tsv', sep='\\t', usecols=[1], header=None, squeeze=True)"
   ]
  },
  {
   "cell_type": "code",
   "execution_count": 12,
   "metadata": {},
   "outputs": [
    {
     "name": "stdout",
     "output_type": "stream",
     "text": [
      "Total Brinkman subjects:\t14737\n",
      "Total Thema subjects: \t\t7362\n"
     ]
    }
   ],
   "source": [
    "# Sort data and print lenth.\n",
    "brinkman_data.sort_values(ascending=True, inplace=True)\n",
    "thema_data.sort_values(ascending=True, inplace=True)\n",
    "print('Total Brinkman subjects:\\t{}'.format(len(brinkman_data)))\n",
    "print('Total Thema subjects:\\t\\t{}'.format(len(thema_data)))\n",
    "# brinkman_data.head(10)\n",
    "# thema_data.head(10)"
   ]
  },
  {
   "cell_type": "code",
   "execution_count": 4,
   "metadata": {},
   "outputs": [
    {
     "name": "stdout",
     "output_type": "stream",
     "text": [
      "Total common subjects (exact matches):\t668\n",
      "\n",
      "Total matches when converting to lowercase first:\t980\n",
      "\n",
      "0                 landbouweconomie\n",
      "1                            blues\n",
      "2                       kalimantan\n",
      "3    internationaal belastingrecht\n",
      "4                            dubai\n",
      "5                           patmos\n",
      "6                           bhutan\n",
      "7      geestelijke gezondheidszorg\n",
      "8                  elektrotechniek\n",
      "9                             mons\n",
      "dtype: object\n",
      "\n",
      "312 subjects that are in both lists but have different capitalization:\n",
      "\n",
      "0                 landbouweconomie\n",
      "1                 kennismanagement\n",
      "2                            blues\n",
      "3                            barok\n",
      "4                       ontbossing\n",
      "5    internationaal belastingrecht\n",
      "6                       sociologie\n",
      "7                economische groei\n",
      "8                   impressionisme\n",
      "9                  elektrotechniek\n",
      "dtype: object\n"
     ]
    }
   ],
   "source": [
    "# Intersection\n",
    "\n",
    "# Case and punctuation mark sensitive comparison (e.g. 's Gravenhage, s gravenhage).\n",
    "intersect_direct = pd.Series(list(set(thema_data).intersection(set(brinkman_data))))\n",
    "print('Total common subjects (exact matches):\\t{}'.format(len(intersect_direct)))\n",
    "\n",
    "# Case incesitive comparison (convert all entries to lowercase before comparison).\n",
    "intersect_lower = pd.Series(list(set(thema_data.str.lower()).intersection(set(brinkman_data.str.lower()))))\n",
    "print('\\nTotal matches when converting to lowercase first:\\t{}\\n'.format(len(intersect_lower)))\n",
    "print(intersect_lower.head(10))\n",
    "\n",
    "# Is Capitalization important to these listed subjects? Can we use the lowercase version intersection from here on out?\n",
    "# To determine if a mapping could be done 1-on-1 between Brinkman and Thema we want to see if capitalization is important.\n",
    "\n",
    "# Matches after converted to lowercase.\n",
    "intersect_lower_uniq = pd.Series(list((set(intersect_lower) - set(intersect_direct.str.lower()))))\n",
    "\n",
    "print('\\n{} subjects that are in both lists but have different capitalization:\\n'.format(len(intersect_lower_uniq)))\n",
    "\n",
    "print(intersect_lower_uniq.head(10))"
   ]
  },
  {
   "cell_type": "code",
   "execution_count": 5,
   "metadata": {},
   "outputs": [
    {
     "name": "stdout",
     "output_type": "stream",
     "text": [
      "Total unique subjects in Brinkman:\t13729\n",
      "\n",
      "0        kattenbroek (amersfoort)\n",
      "1                     encyclieken\n",
      "2                       wespelaar\n",
      "3           nederlandse dialecten\n",
      "4                memphis (egypte)\n",
      "5                       remmerden\n",
      "6             kronieken (i en ii)\n",
      "7    rollecatekwartier (deventer)\n",
      "8                          boksum\n",
      "9                        de venen\n",
      "dtype: object\n"
     ]
    }
   ],
   "source": [
    "# Unique subjects\n",
    "# What makes these subjects unique?\n",
    "\n",
    "brinkman_uniq = pd.Series(list(set(brinkman_data.str.lower()) - set(thema_data.str.lower())))\n",
    "print('Total unique subjects in Brinkman:\\t{}\\n'.format(len(brinkman_uniq)))\n",
    "\n",
    "print(brinkman_uniq.head(10))"
   ]
  },
  {
   "cell_type": "code",
   "execution_count": 6,
   "metadata": {},
   "outputs": [
    {
     "name": "stdout",
     "output_type": "stream",
     "text": [
      "Total unique subjects in Thema:\t\t6355\n",
      "\n",
      "0                                           shintoïsme\n",
      "1                                   ideeëngeschiedenis\n",
      "2     economie, financiën, bedrijfsleven en management\n",
      "3    voor duitse beroepskwalificaties als specialis...\n",
      "4                           loch lomond & de trossachs\n",
      "5                                       psychosomatiek\n",
      "6    children’s / teenage general interest: time tr...\n",
      "7                                             la rioja\n",
      "8                                     himachal pradesh\n",
      "9                              mondelinge geschiedenis\n",
      "dtype: object\n"
     ]
    }
   ],
   "source": [
    "thema_uniq = pd.Series(list(set(thema_data.str.lower()) - set(brinkman_data.str.lower())))\n",
    "print('Total unique subjects in Thema:\\t\\t{}\\n'.format(len(thema_uniq)))\n",
    "print(thema_uniq.head(10))"
   ]
  },
  {
   "cell_type": "code",
   "execution_count": 7,
   "metadata": {},
   "outputs": [
    {
     "data": {
      "text/plain": [
       "2421    autisme en asperger syndroom\n",
       "4165     omgaan met autisme/asperger\n",
       "dtype: object"
      ]
     },
     "execution_count": 7,
     "metadata": {},
     "output_type": "execute_result"
    }
   ],
   "source": [
    "# Search what 'autisme' (a subject only in Brinkman) is in Thema ('autisme' is a very common subject).\n",
    "thema_filter = thema_uniq[thema_uniq.str.contains('autisme')]\n",
    "thema_filter"
   ]
  },
  {
   "cell_type": "code",
   "execution_count": 8,
   "metadata": {},
   "outputs": [
    {
     "data": {
      "text/plain": [
       "9874        old cleveland\n",
       "10985    cleveland (gbr.)\n",
       "dtype: object"
      ]
     },
     "execution_count": 8,
     "metadata": {},
     "output_type": "execute_result"
    }
   ],
   "source": [
    "# Is the subject 'cleveland' in Thema equal as 'cleveland (gbr.)' in Brinkman?\n",
    "brinkman_filter = brinkman_uniq[brinkman_uniq.str.contains('cleveland')]\n",
    "brinkman_filter"
   ]
  },
  {
   "cell_type": "code",
   "execution_count": 9,
   "metadata": {},
   "outputs": [],
   "source": [
    "# Een mogelijke volgende stap zou kunnen zijn om:\n",
    "#   - Keuze maken tussen aan subset aan onderwerpen om verder te gaan.\n",
    "#   - Zelf onderwerpen gaan groeperen/mappen (bv. in synoniemen) (of bv. 'omgaan met autisme/asperger' en 'autisme en asperger syndroom' groeperen onder 'autisme'). om zo veel mogelijk onderwerpen te kunnen gebruiken om te trainen?\n",
    "\n",
    "\n",
    "# Het lijkt erop dat je hoofletters wel weg wil halen,die 668 exacte matches zijn plaatsnamen ed.\n",
    "# Brinkman gebruikt hoofdletters voor (plaats)namen, maar niet voor andere woorden.\n",
    "# Thema doet dit ook, maar begint ook elk subject met een hoofdletter.\n",
    "# print(intersect_direct)\n",
    "\n",
    "# Het lijkt erop dat we misschien het beste de onderwerpen kunnen gebruiken die matchen nadat ze waren geconverteerd.\n",
    "# intersect_lower\n",
    "\n",
    "# - Hoeveel onderwerpen willen we gaan testen?\n",
    "# - Focussen op alleen (plaats)namen die exact matchten (668 onderwerpen - intersect_direct),\n",
    "#           of een mix van alle matchende woorden (zelf een handjevol uitkiezen),\n",
    "#           de volle mep gebruiken (980 onderwerpen - intersect_lower),\n",
    "#           of alleen onderwerpen die past matchen nadat ze geconverteerd waren naar lowercase (312 onderwerpen - intersect_lower_uniq)?\n",
    "\n",
    "\n",
    "# Op basis hiervan kunnen bepalen welke onderwerpen we gaan gebruiken om - na het automatisch toewijzing van een onderwerp uit Thema - te controleren of de juiste onderwerpen zijn gekozen.\n",
    "# Onze aankomende testset met ebooks filteren op alleen deze onderwerpen? (bias?)"
   ]
  },
  {
   "cell_type": "code",
   "execution_count": 10,
   "metadata": {},
   "outputs": [],
   "source": [
    "# Export 980 overlapping words to text file\n",
    "intersect_lower.to_csv(r'/Users/haighton_macbook/Desktop/brinkman_thema.txt', header=None, index=None, sep=' ', mode='a')"
   ]
  },
  {
   "cell_type": "code",
   "execution_count": 11,
   "metadata": {},
   "outputs": [],
   "source": [
    "# We need the PPN (other column which was not imported)\n",
    "df = pd.read_csv('data/brinkmanthesaurus_vocab.tsv', sep='\\t', header=None, squeeze=True)\n",
    "\n",
    "df_ppn = df[df.iloc[:, 1].str.lower().isin(intersect_lower)]\n",
    "df_ppn = (df_ppn.iloc[:, 0])\n",
    "df_ppn = df_ppn.str.split('/').str[-1].str.rsplit('>').str[0]\n",
    "df_ppn.to_csv(r'/Users/haighton_macbook/Desktop/brinkman_thema_ppn.txt', header=None, index=None, sep=' ', mode='a')"
   ]
  }
 ],
 "metadata": {
  "kernelspec": {
   "display_name": "Python 3",
   "language": "python",
   "name": "python3"
  },
  "language_info": {
   "codemirror_mode": {
    "name": "ipython",
    "version": 3
   },
   "file_extension": ".py",
   "mimetype": "text/x-python",
   "name": "python",
   "nbconvert_exporter": "python",
   "pygments_lexer": "ipython3",
   "version": "3.6.5"
  }
 },
 "nbformat": 4,
 "nbformat_minor": 2
}
