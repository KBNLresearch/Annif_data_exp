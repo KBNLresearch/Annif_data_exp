{
 "cells": [
  {
   "cell_type": "markdown",
   "metadata": {},
   "source": [
    "# Compare Brinkman and Thema thesaurus\n",
    "In this document we try to find the amount of overlap between two thesauri: The Brinkman Catalog (used by the KB) and Thema (created by Centraal Bookhuis (CB)). This list will be used to choose our dataset for Annif."
   ]
  },
  {
   "cell_type": "code",
   "execution_count": 1,
   "metadata": {},
   "outputs": [],
   "source": [
    "# !pip3 install numpy\n",
    "# !pip3 install pandas\n",
    "\n",
    "import pandas as pd\n",
    "import numpy as np"
   ]
  },
  {
   "cell_type": "code",
   "execution_count": 2,
   "metadata": {},
   "outputs": [],
   "source": [
    "# Import TSV file for Thema and Brinkman as Series.\n",
    "brinkman_data = pd.read_csv('data/brinkmanthesaurus_vocab.tsv', sep='\\t', usecols=[1], header=None, squeeze=True)\n",
    "thema_data = pd.read_csv('data/Thema_v1.3.2_nl.tsv', sep='\\t', usecols=[1], header=None, squeeze=True)"
   ]
  },
  {
   "cell_type": "code",
   "execution_count": 3,
   "metadata": {},
   "outputs": [
    {
     "name": "stdout",
     "output_type": "stream",
     "text": [
      "Total Brinkman subjects:\t14737\n",
      "Total Thema subjects:\t\t7362\n"
     ]
    }
   ],
   "source": [
    "# Sort data and print lenth.\n",
    "brinkman_data.sort_values(ascending=True, inplace=True)\n",
    "thema_data.sort_values(ascending=True, inplace=True)\n",
    "print('Total Brinkman subjects:\\t{}'.format(len(brinkman_data)))\n",
    "print('Total Thema subjects:\\t\\t{}'.format(len(thema_data)))\n",
    "# brinkman_data.head(10)\n",
    "# thema_data.head(10)"
   ]
  },
  {
   "cell_type": "code",
   "execution_count": 4,
   "metadata": {},
   "outputs": [
    {
     "name": "stdout",
     "output_type": "stream",
     "text": [
      "Total common subjects (exact matches):\t668\n",
      "\n",
      "Total matches when converting to lowercase first:\t980\n",
      "\n",
      "0                     burkina faso\n",
      "1    internationaal belastingrecht\n",
      "2                          i tjing\n",
      "3            economische geografie\n",
      "4                      volksdansen\n",
      "5               sociale pedagogiek\n",
      "6                       tomografie\n",
      "7                       duinkerken\n",
      "8                           guyana\n",
      "9                         richmond\n",
      "dtype: object\n",
      "\n",
      "312 subjects that are in both lists but have different capitalization:\n",
      "\n",
      "0              computerbeveiliging\n",
      "1                    gewichtheffen\n",
      "2    internationaal belastingrecht\n",
      "3            economische geografie\n",
      "4                      volksdansen\n",
      "5               sociale pedagogiek\n",
      "6                       tomografie\n",
      "7                       modernisme\n",
      "8                           qigong\n",
      "9                        popmuziek\n",
      "dtype: object\n"
     ]
    }
   ],
   "source": [
    "# Intersection\n",
    "\n",
    "# Case and punctuation mark sensitive comparison (e.g. 's Gravenhage, s gravenhage).\n",
    "intersect_direct = pd.Series(list(set(thema_data).intersection(set(brinkman_data))))\n",
    "print('Total common subjects (exact matches):\\t{}'.format(len(intersect_direct)))\n",
    "\n",
    "# Case incesitive comparison (convert all entries to lowercase before comparison).\n",
    "intersect_lower = pd.Series(list(set(thema_data.str.lower()).intersection(set(brinkman_data.str.lower()))))\n",
    "print('\\nTotal matches when converting to lowercase first:\\t{}\\n'.format(len(intersect_lower)))\n",
    "print(intersect_lower.head(10))\n",
    "\n",
    "# Is Capitalization important to these listed subjects? Can we use the lowercase version intersection from here on out?\n",
    "# To determine if a mapping could be done 1-on-1 between Brinkman and Thema we want to see if capitalization is important.\n",
    "\n",
    "# Matches after converted to lowercase.\n",
    "intersect_lower_uniq = pd.Series(list((set(intersect_lower) - set(intersect_direct.str.lower()))))\n",
    "\n",
    "print('\\n{} subjects that are in both lists but have different capitalization:\\n'.format(len(intersect_lower_uniq)))\n",
    "\n",
    "print(intersect_lower_uniq.head(10))"
   ]
  },
  {
   "cell_type": "code",
   "execution_count": 5,
   "metadata": {},
   "outputs": [
    {
     "name": "stdout",
     "output_type": "stream",
     "text": [
      "Total unique subjects in Brinkman:\t13729\n",
      "\n",
      "0                    zandwinning\n",
      "1                  monte cassino\n",
      "2          zevenkamp (rotterdam)\n",
      "3                   fibromyalgie\n",
      "4                       kerkrade\n",
      "5                       hurwenen\n",
      "6                 melcombe regis\n",
      "7                     zuiderveen\n",
      "8    leermiddelen ; omgangskunde\n",
      "9              geloofsbelijdenis\n",
      "dtype: object\n"
     ]
    }
   ],
   "source": [
    "# Unique subjects\n",
    "# What makes these subjects unique?\n",
    "\n",
    "brinkman_uniq = pd.Series(list(set(brinkman_data.str.lower()) - set(thema_data.str.lower())))\n",
    "print('Total unique subjects in Brinkman:\\t{}\\n'.format(len(brinkman_uniq)))\n",
    "\n",
    "print(brinkman_uniq.head(10))"
   ]
  },
  {
   "cell_type": "code",
   "execution_count": 6,
   "metadata": {},
   "outputs": [
    {
     "name": "stdout",
     "output_type": "stream",
     "text": [
      "Total unique subjects in Thema:\t\t6355\n",
      "\n",
      "0                                               loches\n",
      "1                                       zuliana region\n",
      "2                                  peru: amazonegebied\n",
      "3                                     northwest mexico\n",
      "4                                   bevallingsmethoden\n",
      "5                                ca. 1980 tot ca. 1989\n",
      "6                           sociologie en antropologie\n",
      "7                                          stijlen (u)\n",
      "8    kind en jeugd, naslagwerken: tweetalige / meer...\n",
      "9                                     data warehousing\n",
      "dtype: object\n"
     ]
    }
   ],
   "source": [
    "thema_uniq = pd.Series(list(set(thema_data.str.lower()) - set(brinkman_data.str.lower())))\n",
    "print('Total unique subjects in Thema:\\t\\t{}\\n'.format(len(thema_uniq)))\n",
    "print(thema_uniq.head(10))"
   ]
  },
  {
   "cell_type": "code",
   "execution_count": 7,
   "metadata": {},
   "outputs": [
    {
     "data": {
      "text/plain": [
       "933     autisme en asperger syndroom\n",
       "4122     omgaan met autisme/asperger\n",
       "dtype: object"
      ]
     },
     "execution_count": 7,
     "metadata": {},
     "output_type": "execute_result"
    }
   ],
   "source": [
    "# Search what 'autisme' (a subject only in Brinkman) is in Thema ('autisme' is a very common subject).\n",
    "thema_filter = thema_uniq[thema_uniq.str.contains('autisme')]\n",
    "thema_filter"
   ]
  },
  {
   "cell_type": "code",
   "execution_count": 8,
   "metadata": {},
   "outputs": [
    {
     "data": {
      "text/plain": [
       "5397    cleveland (gbr.)\n",
       "7830       old cleveland\n",
       "dtype: object"
      ]
     },
     "execution_count": 8,
     "metadata": {},
     "output_type": "execute_result"
    }
   ],
   "source": [
    "# Is the subject 'cleveland' in Thema equal as 'cleveland (gbr.)' in Brinkman?\n",
    "brinkman_filter = brinkman_uniq[brinkman_uniq.str.contains('cleveland')]\n",
    "brinkman_filter"
   ]
  },
  {
   "cell_type": "code",
   "execution_count": 10,
   "metadata": {},
   "outputs": [],
   "source": [
    "# Export 980 overlapping words to text file\n",
    "intersect_lower.to_csv(r'/Users/haighton_macbook/Desktop/brinkman_thema.txt', header=None, index=None, sep=' ', mode='a')"
   ]
  },
  {
   "cell_type": "code",
   "execution_count": 11,
   "metadata": {},
   "outputs": [],
   "source": [
    "# We need the PPN (other column which was not imported)\n",
    "df = pd.read_csv('data/brinkmanthesaurus_vocab.tsv', sep='\\t', header=None, squeeze=True)\n",
    "\n",
    "df_ppn = df[df.iloc[:, 1].str.lower().isin(intersect_lower)]\n",
    "df_ppn = (df_ppn.iloc[:, 0])\n",
    "df_ppn = df_ppn.str.split('/').str[-1].str.rsplit('>').str[0]\n",
    "df_ppn.to_csv(r'/Users/haighton_macbook/Desktop/brinkman_thema_ppn.txt', header=None, index=None, sep=' ', mode='a')"
   ]
  },
  {
   "cell_type": "code",
   "execution_count": 13,
   "metadata": {},
   "outputs": [],
   "source": [
    "# Generate Brinkman TSV of overlapping subjects.\n",
    "df_tsv_overlap = df[df.iloc[:, 1].str.lower().isin(intersect_lower)]\n",
    "df_tsv_overlap.to_csv(r'/Users/haighton_macbook/Desktop/brinkman_thema_overlap.tsv', header=None, index=None, sep='\\t', mode='a')\n"
   ]
  },
  {
   "cell_type": "code",
   "execution_count": null,
   "metadata": {},
   "outputs": [],
   "source": []
  }
 ],
 "metadata": {
  "kernelspec": {
   "display_name": "Python 3",
   "language": "python",
   "name": "python3"
  },
  "language_info": {
   "codemirror_mode": {
    "name": "ipython",
    "version": 3
   },
   "file_extension": ".py",
   "mimetype": "text/x-python",
   "name": "python",
   "nbconvert_exporter": "python",
   "pygments_lexer": "ipython3",
   "version": "3.6.5"
  }
 },
 "nbformat": 4,
 "nbformat_minor": 2
}
